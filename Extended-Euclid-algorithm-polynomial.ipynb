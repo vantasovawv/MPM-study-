{
 "cells": [
  {
   "cell_type": "code",
   "execution_count": 115,
   "id": "d2d485ca",
   "metadata": {},
   "outputs": [],
   "source": [
    "def EEA(a,b):\n",
    "    r=[a,b]\n",
    "    s=[1,0]\n",
    "    t=[0,1]\n",
    "    i=1\n",
    "    while(r[i-1]%r[i]!=0):\n",
    "            r.append(r[i-1]%r[i])\n",
    "            q=r[i-1]//r[i]\n",
    "            s.append(s[i-1]-q*s[i])\n",
    "            t.append(t[i-1]-q*t[i])\n",
    "            i+=1\n",
    "    return r,s,t"
   ]
  },
  {
   "cell_type": "code",
   "execution_count": 118,
   "id": "74cd20ba",
   "metadata": {},
   "outputs": [],
   "source": [
    "def EEAm(a,b):\n",
    "    var(x)\n",
    "    r=[a,b]\n",
    "    s=[1,0]\n",
    "    t=[0,1]\n",
    "    i=1\n",
    "    div=a.maxima_methods().divide(b)\n",
    "    check=r[i-1].maxima_methods().divide(r[i])[1]\n",
    "    while(check!=0):\n",
    "        r.append(r[i-1].maxima_methods().divide(r[i])[1])\n",
    "        q=r[i-1].maxima_methods().divide(r[i])[0]\n",
    "        s.append(s[i-1]-q*s[i])\n",
    "        t.append(t[i-1]-q*t[i])\n",
    "        i+=1\n",
    "        check=r[i]\n",
    "        if(r[i]<0):\n",
    "            r[i]=1#Не может быть отрицательным\n",
    "    return r,s,t"
   ]
  },
  {
   "cell_type": "code",
   "execution_count": 121,
   "id": "37f01a38",
   "metadata": {},
   "outputs": [
    {
     "name": "stdout",
     "output_type": "stream",
     "text": [
      "НОД( x^4 + x^3 - 3*x^2 - 4*x - 1 , x^3 + x^2 - x - 1 ) = -3/4*x - 3/4 (С точностью до постоянного множителя)\n"
     ]
    }
   ],
   "source": [
    "var(x)\n",
    "a=x^4+x^3-3*x^2-4*x-1\n",
    "b=x^3+x^2-x-1\n",
    "r,s,t=EEAm(a,b)\n",
    "print('НОД(',a,',',b,') =',r[-2], '(С точностью до постоянного множителя)')"
   ]
  },
  {
   "cell_type": "code",
   "execution_count": null,
   "id": "e2c26497",
   "metadata": {},
   "outputs": [],
   "source": []
  },
  {
   "cell_type": "code",
   "execution_count": 110,
   "id": "edc6dc7b",
   "metadata": {},
   "outputs": [
    {
     "name": "stdout",
     "output_type": "stream",
     "text": [
      "         i Остатки r[i]       x[i]       y[i]\n",
      "         0         46          1          0\n",
      "         1        240          0          1\n",
      "         2         46          1          0\n",
      "         3         10         -5          1\n",
      "         4          6         21         -4\n",
      "         5          4        -26          5\n",
      "         6          2         47         -9\n",
      "НОД( 46 , 240 ) = 2\n",
      "Линейная форма 47 * 46 + -9 * 240 = 2\n"
     ]
    }
   ],
   "source": [
    "a=46\n",
    "b=240\n",
    "r,s,t=EEA(a,b)\n",
    "print('%10s %10s %10s %10s' % ('i','Остатки r[i]','x[i]','y[i]'))\n",
    "for i in range(len(r)):\n",
    "    print('%10s %10s %10s %10s' % (i,r[i],s[i],t[i]))\n",
    "print('НОД(',a,',',b,') =',r[-1])\n",
    "print('Линейная форма',s[-1],'*',a,'+',t[-1],'*',b,'=',r[-1])"
   ]
  },
  {
   "cell_type": "code",
   "execution_count": null,
   "id": "5a5ce826",
   "metadata": {},
   "outputs": [],
   "source": []
  }
 ],
 "metadata": {
  "kernelspec": {
   "display_name": "SageMath 9.6",
   "language": "sage",
   "name": "sagemath-9.6"
  },
  "language_info": {
   "codemirror_mode": {
    "name": "ipython",
    "version": 3
   },
   "file_extension": ".py",
   "mimetype": "text/x-python",
   "name": "python",
   "nbconvert_exporter": "python",
   "pygments_lexer": "ipython3",
   "version": "3.10.3"
  }
 },
 "nbformat": 4,
 "nbformat_minor": 5
}
